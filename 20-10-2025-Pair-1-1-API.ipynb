{
 "cells": [
  {
   "cell_type": "markdown",
   "id": "6dfd6bd0",
   "metadata": {},
   "source": [
    "**Pair Programming - 20 oct 2025 - APIs** "
   ]
  },
  {
   "cell_type": "code",
   "execution_count": 44,
   "id": "4ef611a2",
   "metadata": {},
   "outputs": [],
   "source": [
    "# https://books.adalab.es/materiales-data-analytics-full-time/modulo-2-extraer-informacion-de-la-web-y-bases-de-datos/lecciones/modulo-2-leccion-01-00-apis"
   ]
  },
  {
   "cell_type": "markdown",
   "id": "11c9c5d7",
   "metadata": {},
   "source": [
    "## 1. Extraer información de las alumnas:\n",
    "- Usa este endpoint: \"https://beta.adalab.es/curso-intensivo-fullstack-recursos/apis/alumnos-v1/alumnos.json\" para hacer la llamada a la API.\n",
    "**Nota:** no requiere api_key ni registro, se puede llamar directamente.\n",
    "- Extrae de los resultados:\n",
    "    - Número de expediente\n",
    "    - Nombre\n",
    "    - Apellido\n",
    "- Convierte los datos extraidos en un Dataframe de pandas"
   ]
  },
  {
   "cell_type": "markdown",
   "id": "36296853",
   "metadata": {},
   "source": [
    "# Ejercicio APIs\n",
    "\n",
    "## 1. Extraer información de las alumnas:\n",
    "\n",
    "- Usa este endpoint: \"https://beta.adalab.es/curso-intensivo-fullstack-recursos/apis/alumnos-v1/alumnos.json\" para hacer la llamada a la API.\n",
    "\n",
    "**Nota:** no requiere api_key ni registro, se puede llamar directamente.\n",
    "\n",
    "- Extrae de los resultados:\n",
    "    - Número de expediente\n",
    "    - Nombre\n",
    "    - Apellido\n",
    "\n",
    "- Convierte los datos extraidos en un Dataframe de pandas\n",
    "\n",
    "## 2. Objetos cercanos a la tierra:\n",
    "\n",
    "- Usa esta API: https://api.nasa.gov/\n",
    "    - Requiere api_key\n",
    "\n",
    "- Utiliza este endpoint: Asteroids - NeoWs -> mira bien la documentación!!\n",
    "\n",
    "- Extrae los ids de los objetos cercanos a la Tierra de uno de los días (el que tú quieras) y crea una lista con ellos.\n",
    "\n",
    "- BUsca si en ese mismo endpoint hay alguna manera de obtener la información de cada objeto por su id. Haz la llamada para cada id de la lista y almacena en un diccionario el id, nombre y si es peligroso de cada objeto."
   ]
  },
  {
   "cell_type": "code",
   "execution_count": 1,
   "id": "e4c53220",
   "metadata": {},
   "outputs": [
    {
     "name": "stdout",
     "output_type": "stream",
     "text": [
      "Requirement already satisfied: pandas in c:\\users\\claudia\\appdata\\local\\programs\\python\\python313\\lib\\site-packages (2.3.3)\n",
      "Requirement already satisfied: numpy>=1.26.0 in c:\\users\\claudia\\appdata\\local\\programs\\python\\python313\\lib\\site-packages (from pandas) (2.3.4)\n",
      "Requirement already satisfied: python-dateutil>=2.8.2 in c:\\users\\claudia\\appdata\\local\\programs\\python\\python313\\lib\\site-packages (from pandas) (2.9.0.post0)\n",
      "Requirement already satisfied: pytz>=2020.1 in c:\\users\\claudia\\appdata\\local\\programs\\python\\python313\\lib\\site-packages (from pandas) (2025.2)\n",
      "Requirement already satisfied: tzdata>=2022.7 in c:\\users\\claudia\\appdata\\local\\programs\\python\\python313\\lib\\site-packages (from pandas) (2025.2)\n",
      "Requirement already satisfied: six>=1.5 in c:\\users\\claudia\\appdata\\local\\programs\\python\\python313\\lib\\site-packages (from python-dateutil>=2.8.2->pandas) (1.17.0)\n",
      "Note: you may need to restart the kernel to use updated packages.\n"
     ]
    }
   ],
   "source": [
    "# pip install pandas"
   ]
  },
  {
   "cell_type": "code",
   "execution_count": 96,
   "id": "7f3ecc2a",
   "metadata": {},
   "outputs": [],
   "source": [
    "import pandas as pd"
   ]
  },
  {
   "cell_type": "code",
   "execution_count": 55,
   "id": "1e8fe0bb",
   "metadata": {},
   "outputs": [],
   "source": [
    "import requests\n",
    "# import pandas as pd"
   ]
  },
  {
   "cell_type": "code",
   "execution_count": 56,
   "id": "68527641",
   "metadata": {},
   "outputs": [],
   "source": [
    "url = \"https://beta.adalab.es/curso-intensivo-fullstack-recursos/apis/alumnos-v1/alumnos.json\""
   ]
  },
  {
   "cell_type": "code",
   "execution_count": 57,
   "id": "7856cf26",
   "metadata": {},
   "outputs": [],
   "source": [
    "res = requests.get(url)"
   ]
  },
  {
   "cell_type": "code",
   "execution_count": 58,
   "id": "884794c8",
   "metadata": {},
   "outputs": [
    {
     "data": {
      "text/plain": [
       "200"
      ]
     },
     "execution_count": 58,
     "metadata": {},
     "output_type": "execute_result"
    }
   ],
   "source": [
    "res.status_code"
   ]
  },
  {
   "cell_type": "code",
   "execution_count": 59,
   "id": "d2390d3e",
   "metadata": {},
   "outputs": [
    {
     "data": {
      "text/plain": [
       "b'{\\n    \"info\": {\\n        \"count\": 20,\\n        \"pages\": 1,\\n        \"currentPage\": 1,\\n        \"next\": null,\\n        \"prev\": null\\n    },\\n    \"results\": [\\n        {\\n            \"num_expediente\": 1001,\\n            \"nombre\": \"Ana\",\\n            \"apellidos\": \"Mart\\xc3\\xadnez\",\\n            \"fecha_nacimiento\": \"2005-03-15\"\\n        },\\n        {\\n            \"num_expediente\": 1002,\\n            \"nombre\": \"Luis\",\\n            \"apellidos\": \"Fern\\xc3\\xa1ndez\",\\n            \"fecha_nacimiento\": \"2004-11-22\"\\n        },\\n        {\\n            \"num_expediente\": 1003,\\n            \"nombre\": \"Clara\",\\n            \"apellidos\": \"Ruiz\",\\n            \"fecha_nacimiento\": \"2006-01-10\"\\n        },\\n        {\\n            \"num_expediente\": 1004,\\n            \"nombre\": \"Pedro\",\\n            \"apellidos\": \"S\\xc3\\xa1nchez\",\\n            \"fecha_nacimiento\": \"2005-07-08\"\\n        },\\n        {\\n            \"num_expediente\": 1005,\\n            \"nombre\": \"Luc\\xc3\\xada\",\\n            \"apellidos\": \"Torres\",\\n            \"fecha_nacimiento\": \"2004-09-18\"\\n        },\\n        {\\n            \"num_expediente\": 1006,\\n            \"nombre\": \"Javier\",\\n            \"apellidos\": \"Gonz\\xc3\\xa1lez\",\\n            \"fecha_nacimiento\": \"2006-06-24\"\\n        },\\n        {\\n            \"num_expediente\": 1007,\\n            \"nombre\": \"Mar\\xc3\\xada\",\\n            \"apellidos\": \"L\\xc3\\xb3pez\",\\n            \"fecha_nacimiento\": \"2005-04-10\"\\n        },\\n        {\\n            \"num_expediente\": 1008,\\n            \"nombre\": \"David\",\\n            \"apellidos\": \"P\\xc3\\xa9rez\",\\n            \"fecha_nacimiento\": \"2004-12-12\"\\n        },\\n        {\\n            \"num_expediente\": 1009,\\n            \"nombre\": \"Sara\",\\n            \"apellidos\": \"Garc\\xc3\\xada\",\\n            \"fecha_nacimiento\": \"2005-08-15\"\\n        },\\n        {\\n            \"num_expediente\": 1010,\\n            \"nombre\": \"Ricardo\",\\n            \"apellidos\": \"Mart\\xc3\\xadn\",\\n            \"fecha_nacimiento\": \"2006-03-22\"\\n        },\\n        {\\n            \"num_expediente\": 1011,\\n            \"nombre\": \"Alba\",\\n            \"apellidos\": \"V\\xc3\\xa1zquez\",\\n            \"fecha_nacimiento\": \"2004-05-05\"\\n        },\\n        {\\n            \"num_expediente\": 1012,\\n            \"nombre\": \"Carlos\",\\n            \"apellidos\": \"Serrano\",\\n            \"fecha_nacimiento\": \"2005-02-28\"\\n        },\\n        {\\n            \"num_expediente\": 1013,\\n            \"nombre\": \"Elena\",\\n            \"apellidos\": \"Ram\\xc3\\xadrez\",\\n            \"fecha_nacimiento\": \"2006-08-01\"\\n        },\\n        {\\n            \"num_expediente\": 1014,\\n            \"nombre\": \"Iv\\xc3\\xa1n\",\\n            \"apellidos\": \"Hern\\xc3\\xa1ndez\",\\n            \"fecha_nacimiento\": \"2005-10-30\"\\n        },\\n        {\\n            \"num_expediente\": 1015,\\n            \"nombre\": \"Laura\",\\n            \"apellidos\": \"Jim\\xc3\\xa9nez\",\\n            \"fecha_nacimiento\": \"2004-07-14\"\\n        },\\n        {\\n            \"num_expediente\": 1016,\\n            \"nombre\": \"Tom\\xc3\\xa1s\",\\n            \"apellidos\": \"L\\xc3\\xb3pez\",\\n            \"fecha_nacimiento\": \"2005-12-18\"\\n        },\\n        {\\n            \"num_expediente\": 1017,\\n            \"nombre\": \"Paula\",\\n            \"apellidos\": \"Fern\\xc3\\xa1ndez\",\\n            \"fecha_nacimiento\": \"2006-02-06\"\\n        },\\n        {\\n            \"num_expediente\": 1018,\\n            \"nombre\": \"Mario\",\\n            \"apellidos\": \"D\\xc3\\xadaz\",\\n            \"fecha_nacimiento\": \"2004-11-30\"\\n        },\\n        {\\n            \"num_expediente\": 1019,\\n            \"nombre\": \"Raquel\",\\n            \"apellidos\": \"Gonz\\xc3\\xa1lez\",\\n            \"fecha_nacimiento\": \"2005-09-23\"\\n        },\\n        {\\n            \"num_expediente\": 1020,\\n            \"nombre\": \"Jorge\",\\n            \"apellidos\": \"\\xc3\\x81lvarez\",\\n            \"fecha_nacimiento\": \"2006-05-17\"\\n        }\\n    ]\\n}'"
      ]
     },
     "execution_count": 59,
     "metadata": {},
     "output_type": "execute_result"
    }
   ],
   "source": [
    "res.content"
   ]
  },
  {
   "cell_type": "code",
   "execution_count": 60,
   "id": "816b7438",
   "metadata": {},
   "outputs": [
    {
     "data": {
      "text/plain": [
       "{'info': {'count': 20,\n",
       "  'pages': 1,\n",
       "  'currentPage': 1,\n",
       "  'next': None,\n",
       "  'prev': None},\n",
       " 'results': [{'num_expediente': 1001,\n",
       "   'nombre': 'Ana',\n",
       "   'apellidos': 'Martínez',\n",
       "   'fecha_nacimiento': '2005-03-15'},\n",
       "  {'num_expediente': 1002,\n",
       "   'nombre': 'Luis',\n",
       "   'apellidos': 'Fernández',\n",
       "   'fecha_nacimiento': '2004-11-22'},\n",
       "  {'num_expediente': 1003,\n",
       "   'nombre': 'Clara',\n",
       "   'apellidos': 'Ruiz',\n",
       "   'fecha_nacimiento': '2006-01-10'},\n",
       "  {'num_expediente': 1004,\n",
       "   'nombre': 'Pedro',\n",
       "   'apellidos': 'Sánchez',\n",
       "   'fecha_nacimiento': '2005-07-08'},\n",
       "  {'num_expediente': 1005,\n",
       "   'nombre': 'Lucía',\n",
       "   'apellidos': 'Torres',\n",
       "   'fecha_nacimiento': '2004-09-18'},\n",
       "  {'num_expediente': 1006,\n",
       "   'nombre': 'Javier',\n",
       "   'apellidos': 'González',\n",
       "   'fecha_nacimiento': '2006-06-24'},\n",
       "  {'num_expediente': 1007,\n",
       "   'nombre': 'María',\n",
       "   'apellidos': 'López',\n",
       "   'fecha_nacimiento': '2005-04-10'},\n",
       "  {'num_expediente': 1008,\n",
       "   'nombre': 'David',\n",
       "   'apellidos': 'Pérez',\n",
       "   'fecha_nacimiento': '2004-12-12'},\n",
       "  {'num_expediente': 1009,\n",
       "   'nombre': 'Sara',\n",
       "   'apellidos': 'García',\n",
       "   'fecha_nacimiento': '2005-08-15'},\n",
       "  {'num_expediente': 1010,\n",
       "   'nombre': 'Ricardo',\n",
       "   'apellidos': 'Martín',\n",
       "   'fecha_nacimiento': '2006-03-22'},\n",
       "  {'num_expediente': 1011,\n",
       "   'nombre': 'Alba',\n",
       "   'apellidos': 'Vázquez',\n",
       "   'fecha_nacimiento': '2004-05-05'},\n",
       "  {'num_expediente': 1012,\n",
       "   'nombre': 'Carlos',\n",
       "   'apellidos': 'Serrano',\n",
       "   'fecha_nacimiento': '2005-02-28'},\n",
       "  {'num_expediente': 1013,\n",
       "   'nombre': 'Elena',\n",
       "   'apellidos': 'Ramírez',\n",
       "   'fecha_nacimiento': '2006-08-01'},\n",
       "  {'num_expediente': 1014,\n",
       "   'nombre': 'Iván',\n",
       "   'apellidos': 'Hernández',\n",
       "   'fecha_nacimiento': '2005-10-30'},\n",
       "  {'num_expediente': 1015,\n",
       "   'nombre': 'Laura',\n",
       "   'apellidos': 'Jiménez',\n",
       "   'fecha_nacimiento': '2004-07-14'},\n",
       "  {'num_expediente': 1016,\n",
       "   'nombre': 'Tomás',\n",
       "   'apellidos': 'López',\n",
       "   'fecha_nacimiento': '2005-12-18'},\n",
       "  {'num_expediente': 1017,\n",
       "   'nombre': 'Paula',\n",
       "   'apellidos': 'Fernández',\n",
       "   'fecha_nacimiento': '2006-02-06'},\n",
       "  {'num_expediente': 1018,\n",
       "   'nombre': 'Mario',\n",
       "   'apellidos': 'Díaz',\n",
       "   'fecha_nacimiento': '2004-11-30'},\n",
       "  {'num_expediente': 1019,\n",
       "   'nombre': 'Raquel',\n",
       "   'apellidos': 'González',\n",
       "   'fecha_nacimiento': '2005-09-23'},\n",
       "  {'num_expediente': 1020,\n",
       "   'nombre': 'Jorge',\n",
       "   'apellidos': 'Álvarez',\n",
       "   'fecha_nacimiento': '2006-05-17'}]}"
      ]
     },
     "execution_count": 60,
     "metadata": {},
     "output_type": "execute_result"
    }
   ],
   "source": [
    "res.json()"
   ]
  },
  {
   "cell_type": "code",
   "execution_count": 61,
   "id": "f482302a",
   "metadata": {},
   "outputs": [
    {
     "data": {
      "text/plain": [
       "dict"
      ]
     },
     "execution_count": 61,
     "metadata": {},
     "output_type": "execute_result"
    }
   ],
   "source": [
    "type(res.json())"
   ]
  },
  {
   "cell_type": "code",
   "execution_count": 62,
   "id": "ae9fff1d",
   "metadata": {},
   "outputs": [],
   "source": [
    "datos = res.json()  #todos los datos"
   ]
  },
  {
   "cell_type": "code",
   "execution_count": 63,
   "id": "adb3b36b",
   "metadata": {},
   "outputs": [
    {
     "data": {
      "text/plain": [
       "dict_keys(['info', 'results'])"
      ]
     },
     "execution_count": 63,
     "metadata": {},
     "output_type": "execute_result"
    }
   ],
   "source": [
    "datos.keys()"
   ]
  },
  {
   "cell_type": "code",
   "execution_count": 64,
   "id": "54b14eed",
   "metadata": {},
   "outputs": [
    {
     "data": {
      "text/plain": [
       "2"
      ]
     },
     "execution_count": 64,
     "metadata": {},
     "output_type": "execute_result"
    }
   ],
   "source": [
    "len(datos)"
   ]
  },
  {
   "cell_type": "code",
   "execution_count": 65,
   "id": "254acba1",
   "metadata": {},
   "outputs": [
    {
     "name": "stdout",
     "output_type": "stream",
     "text": [
      "{'info': {'count': 20, 'pages': 1, 'currentPage': 1, 'next': None, 'prev': None}, 'results': [{'num_expediente': 1001, 'nombre': 'Ana', 'apellidos': 'Martínez', 'fecha_nacimiento': '2005-03-15'}, {'num_expediente': 1002, 'nombre': 'Luis', 'apellidos': 'Fernández', 'fecha_nacimiento': '2004-11-22'}, {'num_expediente': 1003, 'nombre': 'Clara', 'apellidos': 'Ruiz', 'fecha_nacimiento': '2006-01-10'}, {'num_expediente': 1004, 'nombre': 'Pedro', 'apellidos': 'Sánchez', 'fecha_nacimiento': '2005-07-08'}, {'num_expediente': 1005, 'nombre': 'Lucía', 'apellidos': 'Torres', 'fecha_nacimiento': '2004-09-18'}, {'num_expediente': 1006, 'nombre': 'Javier', 'apellidos': 'González', 'fecha_nacimiento': '2006-06-24'}, {'num_expediente': 1007, 'nombre': 'María', 'apellidos': 'López', 'fecha_nacimiento': '2005-04-10'}, {'num_expediente': 1008, 'nombre': 'David', 'apellidos': 'Pérez', 'fecha_nacimiento': '2004-12-12'}, {'num_expediente': 1009, 'nombre': 'Sara', 'apellidos': 'García', 'fecha_nacimiento': '2005-08-15'}, {'num_expediente': 1010, 'nombre': 'Ricardo', 'apellidos': 'Martín', 'fecha_nacimiento': '2006-03-22'}, {'num_expediente': 1011, 'nombre': 'Alba', 'apellidos': 'Vázquez', 'fecha_nacimiento': '2004-05-05'}, {'num_expediente': 1012, 'nombre': 'Carlos', 'apellidos': 'Serrano', 'fecha_nacimiento': '2005-02-28'}, {'num_expediente': 1013, 'nombre': 'Elena', 'apellidos': 'Ramírez', 'fecha_nacimiento': '2006-08-01'}, {'num_expediente': 1014, 'nombre': 'Iván', 'apellidos': 'Hernández', 'fecha_nacimiento': '2005-10-30'}, {'num_expediente': 1015, 'nombre': 'Laura', 'apellidos': 'Jiménez', 'fecha_nacimiento': '2004-07-14'}, {'num_expediente': 1016, 'nombre': 'Tomás', 'apellidos': 'López', 'fecha_nacimiento': '2005-12-18'}, {'num_expediente': 1017, 'nombre': 'Paula', 'apellidos': 'Fernández', 'fecha_nacimiento': '2006-02-06'}, {'num_expediente': 1018, 'nombre': 'Mario', 'apellidos': 'Díaz', 'fecha_nacimiento': '2004-11-30'}, {'num_expediente': 1019, 'nombre': 'Raquel', 'apellidos': 'González', 'fecha_nacimiento': '2005-09-23'}, {'num_expediente': 1020, 'nombre': 'Jorge', 'apellidos': 'Álvarez', 'fecha_nacimiento': '2006-05-17'}]}\n"
     ]
    }
   ],
   "source": [
    "print(datos)"
   ]
  },
  {
   "cell_type": "code",
   "execution_count": 66,
   "id": "8d5c1877",
   "metadata": {},
   "outputs": [
    {
     "data": {
      "text/plain": [
       "{'count': 20, 'pages': 1, 'currentPage': 1, 'next': None, 'prev': None}"
      ]
     },
     "execution_count": 66,
     "metadata": {},
     "output_type": "execute_result"
    }
   ],
   "source": [
    "datos[\"info\"]"
   ]
  },
  {
   "cell_type": "code",
   "execution_count": 67,
   "id": "ed7bf928",
   "metadata": {},
   "outputs": [
    {
     "data": {
      "text/plain": [
       "[{'num_expediente': 1001,\n",
       "  'nombre': 'Ana',\n",
       "  'apellidos': 'Martínez',\n",
       "  'fecha_nacimiento': '2005-03-15'},\n",
       " {'num_expediente': 1002,\n",
       "  'nombre': 'Luis',\n",
       "  'apellidos': 'Fernández',\n",
       "  'fecha_nacimiento': '2004-11-22'},\n",
       " {'num_expediente': 1003,\n",
       "  'nombre': 'Clara',\n",
       "  'apellidos': 'Ruiz',\n",
       "  'fecha_nacimiento': '2006-01-10'},\n",
       " {'num_expediente': 1004,\n",
       "  'nombre': 'Pedro',\n",
       "  'apellidos': 'Sánchez',\n",
       "  'fecha_nacimiento': '2005-07-08'},\n",
       " {'num_expediente': 1005,\n",
       "  'nombre': 'Lucía',\n",
       "  'apellidos': 'Torres',\n",
       "  'fecha_nacimiento': '2004-09-18'},\n",
       " {'num_expediente': 1006,\n",
       "  'nombre': 'Javier',\n",
       "  'apellidos': 'González',\n",
       "  'fecha_nacimiento': '2006-06-24'},\n",
       " {'num_expediente': 1007,\n",
       "  'nombre': 'María',\n",
       "  'apellidos': 'López',\n",
       "  'fecha_nacimiento': '2005-04-10'},\n",
       " {'num_expediente': 1008,\n",
       "  'nombre': 'David',\n",
       "  'apellidos': 'Pérez',\n",
       "  'fecha_nacimiento': '2004-12-12'},\n",
       " {'num_expediente': 1009,\n",
       "  'nombre': 'Sara',\n",
       "  'apellidos': 'García',\n",
       "  'fecha_nacimiento': '2005-08-15'},\n",
       " {'num_expediente': 1010,\n",
       "  'nombre': 'Ricardo',\n",
       "  'apellidos': 'Martín',\n",
       "  'fecha_nacimiento': '2006-03-22'},\n",
       " {'num_expediente': 1011,\n",
       "  'nombre': 'Alba',\n",
       "  'apellidos': 'Vázquez',\n",
       "  'fecha_nacimiento': '2004-05-05'},\n",
       " {'num_expediente': 1012,\n",
       "  'nombre': 'Carlos',\n",
       "  'apellidos': 'Serrano',\n",
       "  'fecha_nacimiento': '2005-02-28'},\n",
       " {'num_expediente': 1013,\n",
       "  'nombre': 'Elena',\n",
       "  'apellidos': 'Ramírez',\n",
       "  'fecha_nacimiento': '2006-08-01'},\n",
       " {'num_expediente': 1014,\n",
       "  'nombre': 'Iván',\n",
       "  'apellidos': 'Hernández',\n",
       "  'fecha_nacimiento': '2005-10-30'},\n",
       " {'num_expediente': 1015,\n",
       "  'nombre': 'Laura',\n",
       "  'apellidos': 'Jiménez',\n",
       "  'fecha_nacimiento': '2004-07-14'},\n",
       " {'num_expediente': 1016,\n",
       "  'nombre': 'Tomás',\n",
       "  'apellidos': 'López',\n",
       "  'fecha_nacimiento': '2005-12-18'},\n",
       " {'num_expediente': 1017,\n",
       "  'nombre': 'Paula',\n",
       "  'apellidos': 'Fernández',\n",
       "  'fecha_nacimiento': '2006-02-06'},\n",
       " {'num_expediente': 1018,\n",
       "  'nombre': 'Mario',\n",
       "  'apellidos': 'Díaz',\n",
       "  'fecha_nacimiento': '2004-11-30'},\n",
       " {'num_expediente': 1019,\n",
       "  'nombre': 'Raquel',\n",
       "  'apellidos': 'González',\n",
       "  'fecha_nacimiento': '2005-09-23'},\n",
       " {'num_expediente': 1020,\n",
       "  'nombre': 'Jorge',\n",
       "  'apellidos': 'Álvarez',\n",
       "  'fecha_nacimiento': '2006-05-17'}]"
      ]
     },
     "execution_count": 67,
     "metadata": {},
     "output_type": "execute_result"
    }
   ],
   "source": [
    "datos[\"results\"] # NUESTRA LISTA ya estaba!!"
   ]
  },
  {
   "cell_type": "code",
   "execution_count": 68,
   "id": "5c9df9eb",
   "metadata": {},
   "outputs": [
    {
     "data": {
      "text/plain": [
       "{'num_expediente': 1001,\n",
       " 'nombre': 'Ana',\n",
       " 'apellidos': 'Martínez',\n",
       " 'fecha_nacimiento': '2005-03-15'}"
      ]
     },
     "execution_count": 68,
     "metadata": {},
     "output_type": "execute_result"
    }
   ],
   "source": [
    "datos[\"results\"][0]"
   ]
  },
  {
   "cell_type": "code",
   "execution_count": 69,
   "id": "649542ad",
   "metadata": {},
   "outputs": [
    {
     "data": {
      "text/plain": [
       "'2005-03-15'"
      ]
     },
     "execution_count": 69,
     "metadata": {},
     "output_type": "execute_result"
    }
   ],
   "source": [
    "datos[\"results\"][0][\"fecha_nacimiento\"]"
   ]
  },
  {
   "cell_type": "code",
   "execution_count": 70,
   "id": "ef0be11d",
   "metadata": {},
   "outputs": [
    {
     "data": {
      "text/plain": [
       "dict"
      ]
     },
     "execution_count": 70,
     "metadata": {},
     "output_type": "execute_result"
    }
   ],
   "source": [
    "type(datos)"
   ]
  },
  {
   "cell_type": "code",
   "execution_count": 71,
   "id": "f01802db",
   "metadata": {},
   "outputs": [
    {
     "data": {
      "text/plain": [
       "{'num_expediente': 1002,\n",
       " 'nombre': 'Luis',\n",
       " 'apellidos': 'Fernández',\n",
       " 'fecha_nacimiento': '2004-11-22'}"
      ]
     },
     "execution_count": 71,
     "metadata": {},
     "output_type": "execute_result"
    }
   ],
   "source": [
    "datos[\"results\"][1]"
   ]
  },
  {
   "cell_type": "code",
   "execution_count": 73,
   "id": "4bdf3c62",
   "metadata": {},
   "outputs": [
    {
     "data": {
      "text/plain": [
       "'Luis'"
      ]
     },
     "execution_count": 73,
     "metadata": {},
     "output_type": "execute_result"
    }
   ],
   "source": [
    "datos[\"results\"][1][\"nombre\"]"
   ]
  },
  {
   "cell_type": "code",
   "execution_count": 80,
   "id": "4a9c128d",
   "metadata": {},
   "outputs": [
    {
     "data": {
      "text/plain": [
       "1002"
      ]
     },
     "execution_count": 80,
     "metadata": {},
     "output_type": "execute_result"
    }
   ],
   "source": [
    "datos[\"results\"][1][\"num_expediente\"]"
   ]
  },
  {
   "cell_type": "code",
   "execution_count": null,
   "id": "98782f3a",
   "metadata": {},
   "outputs": [],
   "source": [
    "lista_alu = datos[\"results\"] # tuve que crear esta variable porque de otra forma me era imposible verlo "
   ]
  },
  {
   "cell_type": "code",
   "execution_count": 84,
   "id": "d50e887f",
   "metadata": {},
   "outputs": [
    {
     "name": "stdout",
     "output_type": "stream",
     "text": [
      "[{'num_expediente': 1001, 'nombre': 'Ana', 'apellidos': 'Martínez', 'fecha_nacimiento': '2005-03-15'}, {'num_expediente': 1002, 'nombre': 'Luis', 'apellidos': 'Fernández', 'fecha_nacimiento': '2004-11-22'}, {'num_expediente': 1003, 'nombre': 'Clara', 'apellidos': 'Ruiz', 'fecha_nacimiento': '2006-01-10'}, {'num_expediente': 1004, 'nombre': 'Pedro', 'apellidos': 'Sánchez', 'fecha_nacimiento': '2005-07-08'}, {'num_expediente': 1005, 'nombre': 'Lucía', 'apellidos': 'Torres', 'fecha_nacimiento': '2004-09-18'}, {'num_expediente': 1006, 'nombre': 'Javier', 'apellidos': 'González', 'fecha_nacimiento': '2006-06-24'}, {'num_expediente': 1007, 'nombre': 'María', 'apellidos': 'López', 'fecha_nacimiento': '2005-04-10'}, {'num_expediente': 1008, 'nombre': 'David', 'apellidos': 'Pérez', 'fecha_nacimiento': '2004-12-12'}, {'num_expediente': 1009, 'nombre': 'Sara', 'apellidos': 'García', 'fecha_nacimiento': '2005-08-15'}, {'num_expediente': 1010, 'nombre': 'Ricardo', 'apellidos': 'Martín', 'fecha_nacimiento': '2006-03-22'}, {'num_expediente': 1011, 'nombre': 'Alba', 'apellidos': 'Vázquez', 'fecha_nacimiento': '2004-05-05'}, {'num_expediente': 1012, 'nombre': 'Carlos', 'apellidos': 'Serrano', 'fecha_nacimiento': '2005-02-28'}, {'num_expediente': 1013, 'nombre': 'Elena', 'apellidos': 'Ramírez', 'fecha_nacimiento': '2006-08-01'}, {'num_expediente': 1014, 'nombre': 'Iván', 'apellidos': 'Hernández', 'fecha_nacimiento': '2005-10-30'}, {'num_expediente': 1015, 'nombre': 'Laura', 'apellidos': 'Jiménez', 'fecha_nacimiento': '2004-07-14'}, {'num_expediente': 1016, 'nombre': 'Tomás', 'apellidos': 'López', 'fecha_nacimiento': '2005-12-18'}, {'num_expediente': 1017, 'nombre': 'Paula', 'apellidos': 'Fernández', 'fecha_nacimiento': '2006-02-06'}, {'num_expediente': 1018, 'nombre': 'Mario', 'apellidos': 'Díaz', 'fecha_nacimiento': '2004-11-30'}, {'num_expediente': 1019, 'nombre': 'Raquel', 'apellidos': 'González', 'fecha_nacimiento': '2005-09-23'}, {'num_expediente': 1020, 'nombre': 'Jorge', 'apellidos': 'Álvarez', 'fecha_nacimiento': '2006-05-17'}]\n"
     ]
    }
   ],
   "source": [
    "print(lista_alu)"
   ]
  },
  {
   "cell_type": "code",
   "execution_count": 93,
   "id": "0da33c7e",
   "metadata": {},
   "outputs": [
    {
     "name": "stdout",
     "output_type": "stream",
     "text": [
      "Ana Martínez 1001\n",
      "Luis Fernández 1002\n",
      "Clara Ruiz 1003\n",
      "Pedro Sánchez 1004\n",
      "Lucía Torres 1005\n",
      "Javier González 1006\n",
      "María López 1007\n",
      "David Pérez 1008\n",
      "Sara García 1009\n",
      "Ricardo Martín 1010\n",
      "Alba Vázquez 1011\n",
      "Carlos Serrano 1012\n",
      "Elena Ramírez 1013\n",
      "Iván Hernández 1014\n",
      "Laura Jiménez 1015\n",
      "Tomás López 1016\n",
      "Paula Fernández 1017\n",
      "Mario Díaz 1018\n",
      "Raquel González 1019\n",
      "Jorge Álvarez 1020\n"
     ]
    }
   ],
   "source": [
    "for alumno in lista_alu:\n",
    "    print(alumno [\"nombre\"], alumno [\"apellidos\"], alumno['num_expediente'])\n",
    "    "
   ]
  },
  {
   "cell_type": "code",
   "execution_count": null,
   "id": "a0a23eda",
   "metadata": {},
   "outputs": [
    {
     "name": "stdout",
     "output_type": "stream",
     "text": [
      "Ana Martínez 1001\n",
      "Luis Fernández 1002\n",
      "Clara Ruiz 1003\n",
      "Pedro Sánchez 1004\n",
      "Lucía Torres 1005\n",
      "Javier González 1006\n",
      "María López 1007\n",
      "David Pérez 1008\n",
      "Sara García 1009\n",
      "Ricardo Martín 1010\n",
      "Alba Vázquez 1011\n",
      "Carlos Serrano 1012\n",
      "Elena Ramírez 1013\n",
      "Iván Hernández 1014\n",
      "Laura Jiménez 1015\n",
      "Tomás López 1016\n",
      "Paula Fernández 1017\n",
      "Mario Díaz 1018\n",
      "Raquel González 1019\n",
      "Jorge Álvarez 1020\n"
     ]
    }
   ],
   "source": [
    "for alumno in datos[\"results\"]: # viene siendo lo mismo de diferentes formas \n",
    "    print(alumno [\"nombre\"], alumno [\"apellidos\"], alumno['num_expediente'])"
   ]
  },
  {
   "cell_type": "code",
   "execution_count": null,
   "id": "712244f3",
   "metadata": {},
   "outputs": [],
   "source": [
    "df_alumno = pd.DataFrame(lista_alu) # df es la variable que contiene el archivo (\" DATAFRAME\")"
   ]
  },
  {
   "cell_type": "code",
   "execution_count": null,
   "id": "02e8eaeb",
   "metadata": {},
   "outputs": [
    {
     "name": "stdout",
     "output_type": "stream",
     "text": [
      "--- DataFrame Completo ---\n",
      "   num_expediente nombre  apellidos fecha_nacimiento\n",
      "0            1001    Ana   Martínez       2005-03-15\n",
      "1            1002   Luis  Fernández       2004-11-22\n",
      "2            1003  Clara       Ruiz       2006-01-10\n",
      "3            1004  Pedro    Sánchez       2005-07-08\n",
      "4            1005  Lucía     Torres       2004-09-18\n"
     ]
    }
   ],
   "source": [
    "print(\"DataFrame Completo\")\n",
    "print(df_alumno.head())"
   ]
  }
 ],
 "metadata": {
  "kernelspec": {
   "display_name": "Python 3",
   "language": "python",
   "name": "python3"
  },
  "language_info": {
   "codemirror_mode": {
    "name": "ipython",
    "version": 3
   },
   "file_extension": ".py",
   "mimetype": "text/x-python",
   "name": "python",
   "nbconvert_exporter": "python",
   "pygments_lexer": "ipython3",
   "version": "3.13.7"
  }
 },
 "nbformat": 4,
 "nbformat_minor": 5
}
